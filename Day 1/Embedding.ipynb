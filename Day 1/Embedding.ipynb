{
  "nbformat": 4,
  "nbformat_minor": 0,
  "metadata": {
    "colab": {
      "provenance": []
    },
    "kernelspec": {
      "name": "python3",
      "display_name": "Python 3"
    },
    "language_info": {
      "name": "python"
    }
  },
  "cells": [
    {
      "cell_type": "code",
      "execution_count": 1,
      "metadata": {
        "id": "SIXFjX0MIs4X"
      },
      "outputs": [],
      "source": [
        "data = {\n",
        "  'good': True,\n",
        "  'bad': False,\n",
        "  'happy': True,\n",
        "  'sad': False,\n",
        "  'not good': False,\n",
        "  'not bad': True,\n",
        "  'not happy': False,\n",
        "  'not sad': True,\n",
        "  'very good': True,\n",
        "  'very bad': False,\n",
        "  'very happy': True,\n",
        "  'very sad': False,\n",
        "  'i am happy': True,\n",
        "  'this is good': True,\n",
        "  'i am bad': False,\n",
        "  'this is bad': False,\n",
        "  'i am sad': False,\n",
        "  'this is sad': False,\n",
        "  'i am not happy': False,\n",
        "  'this is not good': False,\n",
        "  'i am not bad': True,\n",
        "  'this is not sad': True,\n",
        "  'i am very happy': True,\n",
        "  'this is very good': True,\n",
        "  'i am very bad': False,\n",
        "  'this is very sad': False,\n",
        "  'this is very happy': True,\n",
        "  'i am good not bad': True,\n",
        "  'this is good not bad': True,\n",
        "  'i am bad not good': False,\n",
        "  'i am good and happy': True,\n",
        "  'this is not good and not happy': False,\n",
        "  'i am not at all good': False,\n",
        "  'i am not at all bad': True,\n",
        "  'i am not at all happy': False,\n",
        "  'this is not at all sad': True,\n",
        "  'this is not at all happy': False,\n",
        "  'i am good right now': True,\n",
        "  'i am bad right now': False,\n",
        "  'this is bad right now': False,\n",
        "  'i am sad right now': False,\n",
        "  'i was good earlier': True,\n",
        "  'i was happy earlier': True,\n",
        "  'i was bad earlier': False,\n",
        "  'i was sad earlier': False,\n",
        "  'i am very bad right now': False,\n",
        "  'this is very good right now': True,\n",
        "  'this is very sad right now': False,\n",
        "  'this was bad earlier': False,\n",
        "  'this was very good earlier': True,\n",
        "  'this was very bad earlier': False,\n",
        "  'this was very happy earlier': True,\n",
        "  'this was very sad earlier': False,\n",
        "  'i was good and not bad earlier': True,\n",
        "  'i was not good and not happy earlier': False,\n",
        "  'i am not at all bad or sad right now': True,\n",
        "  'i am not at all good or happy right now': False,\n",
        "  'this was not happy and not good earlier': False,\n",
        "}\n"
      ]
    },
    {
      "cell_type": "code",
      "source": [
        "for key in data:\n",
        "  print(key)"
      ],
      "metadata": {
        "colab": {
          "base_uri": "https://localhost:8080/"
        },
        "id": "TpDLfM5wIwE6",
        "outputId": "c95a3913-7af3-4e1d-88db-10385c06349c"
      },
      "execution_count": 2,
      "outputs": [
        {
          "output_type": "stream",
          "name": "stdout",
          "text": [
            "good\n",
            "bad\n",
            "happy\n",
            "sad\n",
            "not good\n",
            "not bad\n",
            "not happy\n",
            "not sad\n",
            "very good\n",
            "very bad\n",
            "very happy\n",
            "very sad\n",
            "i am happy\n",
            "this is good\n",
            "i am bad\n",
            "this is bad\n",
            "i am sad\n",
            "this is sad\n",
            "i am not happy\n",
            "this is not good\n",
            "i am not bad\n",
            "this is not sad\n",
            "i am very happy\n",
            "this is very good\n",
            "i am very bad\n",
            "this is very sad\n",
            "this is very happy\n",
            "i am good not bad\n",
            "this is good not bad\n",
            "i am bad not good\n",
            "i am good and happy\n",
            "this is not good and not happy\n",
            "i am not at all good\n",
            "i am not at all bad\n",
            "i am not at all happy\n",
            "this is not at all sad\n",
            "this is not at all happy\n",
            "i am good right now\n",
            "i am bad right now\n",
            "this is bad right now\n",
            "i am sad right now\n",
            "i was good earlier\n",
            "i was happy earlier\n",
            "i was bad earlier\n",
            "i was sad earlier\n",
            "i am very bad right now\n",
            "this is very good right now\n",
            "this is very sad right now\n",
            "this was bad earlier\n",
            "this was very good earlier\n",
            "this was very bad earlier\n",
            "this was very happy earlier\n",
            "this was very sad earlier\n",
            "i was good and not bad earlier\n",
            "i was not good and not happy earlier\n",
            "i am not at all bad or sad right now\n",
            "i am not at all good or happy right now\n",
            "this was not happy and not good earlier\n"
          ]
        }
      ]
    },
    {
      "cell_type": "code",
      "source": [
        "vocab=list(set([w for text in data.keys() for w in text.split(' ')]))"
      ],
      "metadata": {
        "id": "A3uXRVJcJEXG"
      },
      "execution_count": 5,
      "outputs": []
    },
    {
      "cell_type": "code",
      "source": [
        "vocab_size = len(vocab)"
      ],
      "metadata": {
        "id": "e_7qR2puJwzI"
      },
      "execution_count": 8,
      "outputs": []
    },
    {
      "cell_type": "code",
      "source": [
        "# Assign indices to each word.\n",
        "word_to_idx = { w: i for i, w in enumerate(vocab) }\n",
        "idx_to_word = { i: w for i, w in enumerate(vocab) }\n",
        "print(word_to_idx)\n",
        "print(idx_to_word)\n",
        "print(word_to_idx['good']) # 16 (this may change)\n",
        "print(idx_to_word[0]) # sad (this may change)"
      ],
      "metadata": {
        "colab": {
          "base_uri": "https://localhost:8080/"
        },
        "id": "UlxZsHMEJ4dD",
        "outputId": "5df88392-3ab4-49a4-e8a9-719ef818dd3c"
      },
      "execution_count": 9,
      "outputs": [
        {
          "output_type": "stream",
          "name": "stdout",
          "text": [
            "{'good': 0, 'happy': 1, 'bad': 2, 'at': 3, 'all': 4, 'or': 5, 'is': 6, 'now': 7, 'sad': 8, 'i': 9, 'am': 10, 'and': 11, 'right': 12, 'was': 13, 'this': 14, 'earlier': 15, 'very': 16, 'not': 17}\n",
            "{0: 'good', 1: 'happy', 2: 'bad', 3: 'at', 4: 'all', 5: 'or', 6: 'is', 7: 'now', 8: 'sad', 9: 'i', 10: 'am', 11: 'and', 12: 'right', 13: 'was', 14: 'this', 15: 'earlier', 16: 'very', 17: 'not'}\n",
            "0\n",
            "good\n"
          ]
        }
      ]
    },
    {
      "cell_type": "code",
      "source": [
        "import numpy as np\n",
        "\n",
        "def createInputs(text):\n",
        "  '''\n",
        "  Returns an array of one-hot vectors representing the words\n",
        "  in the input text string.\n",
        "  - text is a string\n",
        "  - Each one-hot vector has shape (vocab_size, 1)\n",
        "  '''\n",
        "  inputs = []\n",
        "  for w in text.split(' '):\n",
        "    v = np.zeros((vocab_size, 1))\n",
        "    v[word_to_idx[w]] = 1\n",
        "    inputs.append(v)\n",
        "  return inputs"
      ],
      "metadata": {
        "id": "hLtiJNBbKKQ7"
      },
      "execution_count": 11,
      "outputs": []
    },
    {
      "cell_type": "code",
      "source": [
        "createInputs(\"i\")"
      ],
      "metadata": {
        "colab": {
          "base_uri": "https://localhost:8080/"
        },
        "id": "CEDydfEaKUn5",
        "outputId": "b0a1da2e-2b6f-44c3-8b77-ce9867e638c4"
      },
      "execution_count": 14,
      "outputs": [
        {
          "output_type": "execute_result",
          "data": {
            "text/plain": [
              "[array([[0.],\n",
              "        [0.],\n",
              "        [0.],\n",
              "        [0.],\n",
              "        [0.],\n",
              "        [0.],\n",
              "        [0.],\n",
              "        [0.],\n",
              "        [0.],\n",
              "        [1.],\n",
              "        [0.],\n",
              "        [0.],\n",
              "        [0.],\n",
              "        [0.],\n",
              "        [0.],\n",
              "        [0.],\n",
              "        [0.],\n",
              "        [0.]])]"
            ]
          },
          "metadata": {},
          "execution_count": 14
        }
      ]
    }
  ]
}